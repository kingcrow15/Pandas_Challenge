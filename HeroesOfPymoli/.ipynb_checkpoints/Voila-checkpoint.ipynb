{
 "cells": [
  {
   "cell_type": "markdown",
   "metadata": {},
   "source": [
    "### Heroes Of Pymoli Data Analysis\n",
    "* Of the 1163 active players, the vast majority are male (84%). There also exists, a smaller, but notable proportion of female players (14%).\n",
    "\n",
    "* Our peak age demographic falls between 20-24 (44.8%) with secondary groups falling between 15-19 (18.60%) and 25-29 (13.4%).  \n",
    "-----"
   ]
  },
  {
   "cell_type": "markdown",
   "metadata": {},
   "source": [
    "### Note\n",
    "* Instructions have been included for each segment. You do not have to follow them exactly, but they are included to help you think through the steps."
   ]
  },
  {
   "cell_type": "code",
   "execution_count": 2,
   "metadata": {},
   "outputs": [],
   "source": [
    "# Dependencies and Setup\n",
    "import pandas as pd\n",
    "\n",
    "# File to Load (Remember to Change These)\n",
    "file_to_load = \"Resources/purchase_data.csv\"\n",
    "\n",
    "# Read Purchasing File and store into Pandas data frame\n",
    "purchase_data = pd.read_csv(file_to_load)"
   ]
  },
  {
   "cell_type": "markdown",
   "metadata": {},
   "source": [
    "## Player Count"
   ]
  },
  {
   "cell_type": "markdown",
   "metadata": {},
   "source": [
    "* Display the total number of players\n"
   ]
  },
  {
   "cell_type": "code",
   "execution_count": 3,
   "metadata": {},
   "outputs": [
    {
     "data": {
      "text/html": [
       "<div>\n",
       "<style scoped>\n",
       "    .dataframe tbody tr th:only-of-type {\n",
       "        vertical-align: middle;\n",
       "    }\n",
       "\n",
       "    .dataframe tbody tr th {\n",
       "        vertical-align: top;\n",
       "    }\n",
       "\n",
       "    .dataframe thead th {\n",
       "        text-align: right;\n",
       "    }\n",
       "</style>\n",
       "<table border=\"1\" class=\"dataframe\">\n",
       "  <thead>\n",
       "    <tr style=\"text-align: right;\">\n",
       "      <th></th>\n",
       "      <th>Purchase ID</th>\n",
       "      <th>SN</th>\n",
       "      <th>Age</th>\n",
       "      <th>Gender</th>\n",
       "      <th>Item ID</th>\n",
       "      <th>Item Name</th>\n",
       "      <th>Price</th>\n",
       "    </tr>\n",
       "  </thead>\n",
       "  <tbody>\n",
       "    <tr>\n",
       "      <td>0</td>\n",
       "      <td>0</td>\n",
       "      <td>Lisim78</td>\n",
       "      <td>20</td>\n",
       "      <td>Male</td>\n",
       "      <td>108</td>\n",
       "      <td>Extraction, Quickblade Of Trembling Hands</td>\n",
       "      <td>3.53</td>\n",
       "    </tr>\n",
       "    <tr>\n",
       "      <td>1</td>\n",
       "      <td>1</td>\n",
       "      <td>Lisovynya38</td>\n",
       "      <td>40</td>\n",
       "      <td>Male</td>\n",
       "      <td>143</td>\n",
       "      <td>Frenzied Scimitar</td>\n",
       "      <td>1.56</td>\n",
       "    </tr>\n",
       "    <tr>\n",
       "      <td>2</td>\n",
       "      <td>2</td>\n",
       "      <td>Ithergue48</td>\n",
       "      <td>24</td>\n",
       "      <td>Male</td>\n",
       "      <td>92</td>\n",
       "      <td>Final Critic</td>\n",
       "      <td>4.88</td>\n",
       "    </tr>\n",
       "    <tr>\n",
       "      <td>3</td>\n",
       "      <td>3</td>\n",
       "      <td>Chamassasya86</td>\n",
       "      <td>24</td>\n",
       "      <td>Male</td>\n",
       "      <td>100</td>\n",
       "      <td>Blindscythe</td>\n",
       "      <td>3.27</td>\n",
       "    </tr>\n",
       "    <tr>\n",
       "      <td>4</td>\n",
       "      <td>4</td>\n",
       "      <td>Iskosia90</td>\n",
       "      <td>23</td>\n",
       "      <td>Male</td>\n",
       "      <td>131</td>\n",
       "      <td>Fury</td>\n",
       "      <td>1.44</td>\n",
       "    </tr>\n",
       "    <tr>\n",
       "      <td>...</td>\n",
       "      <td>...</td>\n",
       "      <td>...</td>\n",
       "      <td>...</td>\n",
       "      <td>...</td>\n",
       "      <td>...</td>\n",
       "      <td>...</td>\n",
       "      <td>...</td>\n",
       "    </tr>\n",
       "    <tr>\n",
       "      <td>775</td>\n",
       "      <td>775</td>\n",
       "      <td>Aethedru70</td>\n",
       "      <td>21</td>\n",
       "      <td>Female</td>\n",
       "      <td>60</td>\n",
       "      <td>Wolf</td>\n",
       "      <td>3.54</td>\n",
       "    </tr>\n",
       "    <tr>\n",
       "      <td>776</td>\n",
       "      <td>776</td>\n",
       "      <td>Iral74</td>\n",
       "      <td>21</td>\n",
       "      <td>Male</td>\n",
       "      <td>164</td>\n",
       "      <td>Exiled Doomblade</td>\n",
       "      <td>1.63</td>\n",
       "    </tr>\n",
       "    <tr>\n",
       "      <td>777</td>\n",
       "      <td>777</td>\n",
       "      <td>Yathecal72</td>\n",
       "      <td>20</td>\n",
       "      <td>Male</td>\n",
       "      <td>67</td>\n",
       "      <td>Celeste, Incarnation of the Corrupted</td>\n",
       "      <td>3.46</td>\n",
       "    </tr>\n",
       "    <tr>\n",
       "      <td>778</td>\n",
       "      <td>778</td>\n",
       "      <td>Sisur91</td>\n",
       "      <td>7</td>\n",
       "      <td>Male</td>\n",
       "      <td>92</td>\n",
       "      <td>Final Critic</td>\n",
       "      <td>4.19</td>\n",
       "    </tr>\n",
       "    <tr>\n",
       "      <td>779</td>\n",
       "      <td>779</td>\n",
       "      <td>Ennrian78</td>\n",
       "      <td>24</td>\n",
       "      <td>Male</td>\n",
       "      <td>50</td>\n",
       "      <td>Dawn</td>\n",
       "      <td>4.60</td>\n",
       "    </tr>\n",
       "  </tbody>\n",
       "</table>\n",
       "<p>780 rows × 7 columns</p>\n",
       "</div>"
      ],
      "text/plain": [
       "     Purchase ID             SN  Age  Gender  Item ID  \\\n",
       "0              0        Lisim78   20    Male      108   \n",
       "1              1    Lisovynya38   40    Male      143   \n",
       "2              2     Ithergue48   24    Male       92   \n",
       "3              3  Chamassasya86   24    Male      100   \n",
       "4              4      Iskosia90   23    Male      131   \n",
       "..           ...            ...  ...     ...      ...   \n",
       "775          775     Aethedru70   21  Female       60   \n",
       "776          776         Iral74   21    Male      164   \n",
       "777          777     Yathecal72   20    Male       67   \n",
       "778          778        Sisur91    7    Male       92   \n",
       "779          779      Ennrian78   24    Male       50   \n",
       "\n",
       "                                     Item Name  Price  \n",
       "0    Extraction, Quickblade Of Trembling Hands   3.53  \n",
       "1                            Frenzied Scimitar   1.56  \n",
       "2                                 Final Critic   4.88  \n",
       "3                                  Blindscythe   3.27  \n",
       "4                                         Fury   1.44  \n",
       "..                                         ...    ...  \n",
       "775                                       Wolf   3.54  \n",
       "776                           Exiled Doomblade   1.63  \n",
       "777      Celeste, Incarnation of the Corrupted   3.46  \n",
       "778                               Final Critic   4.19  \n",
       "779                                       Dawn   4.60  \n",
       "\n",
       "[780 rows x 7 columns]"
      ]
     },
     "execution_count": 3,
     "metadata": {},
     "output_type": "execute_result"
    }
   ],
   "source": [
    "purchase_data"
   ]
  },
  {
   "cell_type": "code",
   "execution_count": 4,
   "metadata": {},
   "outputs": [
    {
     "data": {
      "text/html": [
       "<style  type=\"text/css\" >\n",
       "</style><table id=\"T_9222a510_715e_11ea_9821_74c63bff8ba6\" ><thead>    <tr>        <th class=\"col_heading level0 col0\" >Total Players</th>    </tr></thead><tbody>\n",
       "                <tr>\n",
       "                                <td id=\"T_9222a510_715e_11ea_9821_74c63bff8ba6row0_col0\" class=\"data row0 col0\" >576</td>\n",
       "            </tr>\n",
       "    </tbody></table>"
      ],
      "text/plain": [
       "<pandas.io.formats.style.Styler at 0x2c799727c08>"
      ]
     },
     "execution_count": 4,
     "metadata": {},
     "output_type": "execute_result"
    }
   ],
   "source": [
    "total_players = len(purchase_data[\"SN\"].value_counts())\n",
    "total_players\n",
    "player_count = pd.DataFrame({\"Total Players\":[total_players]})\n",
    "player_count.style.hide_index()"
   ]
  },
  {
   "cell_type": "markdown",
   "metadata": {},
   "source": [
    "## Purchasing Analysis (Total)"
   ]
  },
  {
   "cell_type": "markdown",
   "metadata": {},
   "source": [
    "* Run basic calculations to obtain number of unique items, average price, etc.\n",
    "\n",
    "\n",
    "* Create a summary data frame to hold the results\n",
    "\n",
    "\n",
    "* Optional: give the displayed data cleaner formatting\n",
    "\n",
    "\n",
    "* Display the summary data frame\n"
   ]
  },
  {
   "cell_type": "code",
   "execution_count": null,
   "metadata": {
    "scrolled": true
   },
   "outputs": [],
   "source": []
  },
  {
   "cell_type": "code",
   "execution_count": 5,
   "metadata": {},
   "outputs": [
    {
     "data": {
      "text/plain": [
       "179"
      ]
     },
     "execution_count": 5,
     "metadata": {},
     "output_type": "execute_result"
    }
   ],
   "source": [
    "purchase_data_analyis = purchase_data.groupby(\"Item ID\").nunique()\n",
    "total_item_id = purchase_data_analyis.shape[0]\n",
    "total_item_id"
   ]
  },
  {
   "cell_type": "code",
   "execution_count": 46,
   "metadata": {},
   "outputs": [
    {
     "data": {
      "text/plain": [
       "3.05"
      ]
     },
     "execution_count": 46,
     "metadata": {},
     "output_type": "execute_result"
    }
   ],
   "source": [
    "Ave_transact = purchase_data[[\"Price\"]]\n",
    "Ave_transact = Ave_transact.mean()\n",
    "Ave_transact = Ave_transact.round(decimals=2)\n",
    "Ave_transact = float(Ave_transact)\n",
    "Ave_transact"
   ]
  },
  {
   "cell_type": "code",
   "execution_count": 47,
   "metadata": {},
   "outputs": [
    {
     "data": {
      "text/plain": [
       "2379.77"
      ]
     },
     "execution_count": 47,
     "metadata": {},
     "output_type": "execute_result"
    }
   ],
   "source": [
    "tot_rev = purchase_data[[\"Price\"]]\n",
    "tot_rev = tot_rev.sum()\n",
    "tot_rev = tot_rev\n",
    "tot_rev = float(tot_rev)\n",
    "tot_rev"
   ]
  },
  {
   "cell_type": "code",
   "execution_count": 48,
   "metadata": {},
   "outputs": [
    {
     "data": {
      "text/plain": [
       "780"
      ]
     },
     "execution_count": 48,
     "metadata": {},
     "output_type": "execute_result"
    }
   ],
   "source": [
    "num_purch = purchase_data.groupby(\"Purchase ID\").nunique()\n",
    "num_purch = num_purch.shape[0]\n",
    "num_purch "
   ]
  },
  {
   "cell_type": "code",
   "execution_count": 68,
   "metadata": {},
   "outputs": [
    {
     "data": {
      "text/html": [
       "<style  type=\"text/css\" >\n",
       "</style><table id=\"T_ad29f802_7165_11ea_a1ec_74c63bff8ba6\" ><thead>    <tr>        <th class=\"col_heading level0 col0\" >Number of Unique Items</th>        <th class=\"col_heading level0 col1\" >Average Price</th>        <th class=\"col_heading level0 col2\" >Number of Purchases</th>        <th class=\"col_heading level0 col3\" >Total Revenue</th>    </tr></thead><tbody>\n",
       "                <tr>\n",
       "                                <td id=\"T_ad29f802_7165_11ea_a1ec_74c63bff8ba6row0_col0\" class=\"data row0 col0\" >179</td>\n",
       "                        <td id=\"T_ad29f802_7165_11ea_a1ec_74c63bff8ba6row0_col1\" class=\"data row0 col1\" >$3.05</td>\n",
       "                        <td id=\"T_ad29f802_7165_11ea_a1ec_74c63bff8ba6row0_col2\" class=\"data row0 col2\" >780</td>\n",
       "                        <td id=\"T_ad29f802_7165_11ea_a1ec_74c63bff8ba6row0_col3\" class=\"data row0 col3\" >$2379.77</td>\n",
       "            </tr>\n",
       "    </tbody></table>"
      ],
      "text/plain": [
       "<pandas.io.formats.style.Styler at 0x2c79a20de48>"
      ]
     },
     "execution_count": 68,
     "metadata": {},
     "output_type": "execute_result"
    }
   ],
   "source": [
    "summary_df = pd.DataFrame({\"Number of Unique Items\":[total_item_id],\n",
    "                           \"Average Price\":[Ave_transact], \n",
    "                           \"Number of Purchases\": [num_purch], \n",
    "                           \"Total Revenue\": [tot_rev]})\n",
    "\n",
    "summary_df.style.format({\"Total Revenue\":\"${:.2f}\", \"Average Price\": \"${:.2f}\"}).hide_index()"
   ]
  },
  {
   "cell_type": "markdown",
   "metadata": {},
   "source": [
    "## Gender Demographics"
   ]
  },
  {
   "cell_type": "markdown",
   "metadata": {},
   "source": [
    "* Percentage and Count of Male Players\n",
    "\n",
    "\n",
    "* Percentage and Count of Female Players\n",
    "\n",
    "\n",
    "* Percentage and Count of Other / Non-Disclosed\n",
    "\n",
    "\n"
   ]
  },
  {
   "cell_type": "code",
   "execution_count": null,
   "metadata": {},
   "outputs": [],
   "source": []
  },
  {
   "cell_type": "code",
   "execution_count": 10,
   "metadata": {},
   "outputs": [
    {
     "data": {
      "text/html": [
       "<div>\n",
       "<style scoped>\n",
       "    .dataframe tbody tr th:only-of-type {\n",
       "        vertical-align: middle;\n",
       "    }\n",
       "\n",
       "    .dataframe tbody tr th {\n",
       "        vertical-align: top;\n",
       "    }\n",
       "\n",
       "    .dataframe thead th {\n",
       "        text-align: right;\n",
       "    }\n",
       "</style>\n",
       "<table border=\"1\" class=\"dataframe\">\n",
       "  <thead>\n",
       "    <tr style=\"text-align: right;\">\n",
       "      <th></th>\n",
       "      <th>Total Count</th>\n",
       "    </tr>\n",
       "    <tr>\n",
       "      <th>Gender</th>\n",
       "      <th></th>\n",
       "    </tr>\n",
       "  </thead>\n",
       "  <tbody>\n",
       "    <tr>\n",
       "      <td>Female</td>\n",
       "      <td>113</td>\n",
       "    </tr>\n",
       "    <tr>\n",
       "      <td>Male</td>\n",
       "      <td>652</td>\n",
       "    </tr>\n",
       "    <tr>\n",
       "      <td>Other / Non-Disclosed</td>\n",
       "      <td>15</td>\n",
       "    </tr>\n",
       "  </tbody>\n",
       "</table>\n",
       "</div>"
      ],
      "text/plain": [
       "                       Total Count\n",
       "Gender                            \n",
       "Female                         113\n",
       "Male                           652\n",
       "Other / Non-Disclosed           15"
      ]
     },
     "execution_count": 10,
     "metadata": {},
     "output_type": "execute_result"
    }
   ],
   "source": [
    "purchase_data\n",
    "gender_groups = purchase_data.groupby('Gender')\n",
    "gender_trips = gender_groups['SN'].count()\n",
    "gender_trips = pd.DataFrame(data=gender_trips)\n",
    "gender_trips = gender_trips.rename(columns={\"SN\": \"Total Count\", \"Gender\": \"Beans\"})\n",
    "gender_trips "
   ]
  },
  {
   "cell_type": "code",
   "execution_count": 23,
   "metadata": {
    "scrolled": true
   },
   "outputs": [
    {
     "data": {
      "text/html": [
       "<style  type=\"text/css\" >\n",
       "</style><table id=\"T_6d00d23e_7160_11ea_b472_74c63bff8ba6\" ><thead>    <tr>        <th class=\"blank level0\" ></th>        <th class=\"col_heading level0 col0\" >Percentage of Players</th>        <th class=\"col_heading level0 col1\" >Total Count</th>    </tr></thead><tbody>\n",
       "                <tr>\n",
       "                        <th id=\"T_6d00d23e_7160_11ea_b472_74c63bff8ba6level0_row0\" class=\"row_heading level0 row0\" >Female</th>\n",
       "                        <td id=\"T_6d00d23e_7160_11ea_b472_74c63bff8ba6row0_col0\" class=\"data row0 col0\" >14.06%</td>\n",
       "                        <td id=\"T_6d00d23e_7160_11ea_b472_74c63bff8ba6row0_col1\" class=\"data row0 col1\" >81</td>\n",
       "            </tr>\n",
       "            <tr>\n",
       "                        <th id=\"T_6d00d23e_7160_11ea_b472_74c63bff8ba6level0_row1\" class=\"row_heading level0 row1\" >Male</th>\n",
       "                        <td id=\"T_6d00d23e_7160_11ea_b472_74c63bff8ba6row1_col0\" class=\"data row1 col0\" >84.03%</td>\n",
       "                        <td id=\"T_6d00d23e_7160_11ea_b472_74c63bff8ba6row1_col1\" class=\"data row1 col1\" >484</td>\n",
       "            </tr>\n",
       "            <tr>\n",
       "                        <th id=\"T_6d00d23e_7160_11ea_b472_74c63bff8ba6level0_row2\" class=\"row_heading level0 row2\" >Other / Non-Disclosed</th>\n",
       "                        <td id=\"T_6d00d23e_7160_11ea_b472_74c63bff8ba6row2_col0\" class=\"data row2 col0\" >1.91%</td>\n",
       "                        <td id=\"T_6d00d23e_7160_11ea_b472_74c63bff8ba6row2_col1\" class=\"data row2 col1\" >11</td>\n",
       "            </tr>\n",
       "    </tbody></table>"
      ],
      "text/plain": [
       "<pandas.io.formats.style.Styler at 0x2c79a0bdd88>"
      ]
     },
     "execution_count": 23,
     "metadata": {},
     "output_type": "execute_result"
    }
   ],
   "source": [
    "gen_stats = purchase_data.groupby(\"Gender\")\n",
    "total_count_gender = gen_stats.nunique()[\"SN\"]\n",
    "percentage_of_players = total_count_gender / total_players * 100\n",
    "gen_summery = pd.DataFrame({\"Percentage of Players\": percentage_of_players, \"Total Count\": total_count_gender})\n",
    "gen_summery.index.name = None\n",
    "gen_summery.style.format({\"Percentage of Players\":\"{:.2f}%\"})"
   ]
  },
  {
   "cell_type": "markdown",
   "metadata": {},
   "source": [
    "\n",
    "## Purchasing Analysis (Gender)"
   ]
  },
  {
   "cell_type": "markdown",
   "metadata": {},
   "source": [
    "* Run basic calculations to obtain purchase count, avg. purchase price, avg. purchase total per person etc. by gender\n",
    "\n",
    "\n",
    "\n",
    "\n",
    "* Create a summary data frame to hold the results\n",
    "\n",
    "\n",
    "* Optional: give the displayed data cleaner formatting\n",
    "\n",
    "\n",
    "* Display the summary data frame"
   ]
  },
  {
   "cell_type": "code",
   "execution_count": 27,
   "metadata": {},
   "outputs": [
    {
     "data": {
      "text/html": [
       "<style  type=\"text/css\" >\n",
       "</style><table id=\"T_af6f161a_7162_11ea_98ca_74c63bff8ba6\" ><thead>    <tr>        <th class=\"blank level0\" ></th>        <th class=\"col_heading level0 col0\" >Purchase Count</th>        <th class=\"col_heading level0 col1\" >Average Purchase Price</th>        <th class=\"col_heading level0 col2\" >Average Purchase Value</th>        <th class=\"col_heading level0 col3\" >Avg Purchase Total per Person</th>    </tr></thead><tbody>\n",
       "                <tr>\n",
       "                        <th id=\"T_af6f161a_7162_11ea_98ca_74c63bff8ba6level0_row0\" class=\"row_heading level0 row0\" >Female</th>\n",
       "                        <td id=\"T_af6f161a_7162_11ea_98ca_74c63bff8ba6row0_col0\" class=\"data row0 col0\" >113</td>\n",
       "                        <td id=\"T_af6f161a_7162_11ea_98ca_74c63bff8ba6row0_col1\" class=\"data row0 col1\" >$3.20</td>\n",
       "                        <td id=\"T_af6f161a_7162_11ea_98ca_74c63bff8ba6row0_col2\" class=\"data row0 col2\" >$361.94</td>\n",
       "                        <td id=\"T_af6f161a_7162_11ea_98ca_74c63bff8ba6row0_col3\" class=\"data row0 col3\" >$4.47</td>\n",
       "            </tr>\n",
       "            <tr>\n",
       "                        <th id=\"T_af6f161a_7162_11ea_98ca_74c63bff8ba6level0_row1\" class=\"row_heading level0 row1\" >Male</th>\n",
       "                        <td id=\"T_af6f161a_7162_11ea_98ca_74c63bff8ba6row1_col0\" class=\"data row1 col0\" >652</td>\n",
       "                        <td id=\"T_af6f161a_7162_11ea_98ca_74c63bff8ba6row1_col1\" class=\"data row1 col1\" >$3.02</td>\n",
       "                        <td id=\"T_af6f161a_7162_11ea_98ca_74c63bff8ba6row1_col2\" class=\"data row1 col2\" >$1,967.64</td>\n",
       "                        <td id=\"T_af6f161a_7162_11ea_98ca_74c63bff8ba6row1_col3\" class=\"data row1 col3\" >$4.07</td>\n",
       "            </tr>\n",
       "            <tr>\n",
       "                        <th id=\"T_af6f161a_7162_11ea_98ca_74c63bff8ba6level0_row2\" class=\"row_heading level0 row2\" >Other / Non-Disclosed</th>\n",
       "                        <td id=\"T_af6f161a_7162_11ea_98ca_74c63bff8ba6row2_col0\" class=\"data row2 col0\" >15</td>\n",
       "                        <td id=\"T_af6f161a_7162_11ea_98ca_74c63bff8ba6row2_col1\" class=\"data row2 col1\" >$3.35</td>\n",
       "                        <td id=\"T_af6f161a_7162_11ea_98ca_74c63bff8ba6row2_col2\" class=\"data row2 col2\" >$50.19</td>\n",
       "                        <td id=\"T_af6f161a_7162_11ea_98ca_74c63bff8ba6row2_col3\" class=\"data row2 col3\" >$4.56</td>\n",
       "            </tr>\n",
       "    </tbody></table>"
      ],
      "text/plain": [
       "<pandas.io.formats.style.Styler at 0x2c79a05d5c8>"
      ]
     },
     "execution_count": 27,
     "metadata": {},
     "output_type": "execute_result"
    }
   ],
   "source": [
    "purchase_count = gen_stats[\"Purchase ID\"].count()\n",
    "avg_purchase_price = gen_stats[\"Price\"].mean()\n",
    "avg_purchase_total = gen_stats[\"Price\"].sum()\n",
    "avg_purchase_per_person = avg_purchase_total/total_count_gender\n",
    "\n",
    "\n",
    "gender_demo = pd.DataFrame({\"Purchase Count\": purchase_count, \n",
    "                                    \"Average Purchase Price\": avg_purchase_price,\n",
    "                                    \"Average Purchase Value\":avg_purchase_total,\n",
    "                                    \"Avg Purchase Total per Person\": avg_purchase_per_person})\n",
    "\n",
    "gender_demo.style.format({\"Average Purchase Value\":\"${:,.2f}\",\n",
    "                                  \"Average Purchase Price\":\"${:,.2f}\",\n",
    "                                  \"Avg Purchase Total per Person\":\"${:,.2f}\"})"
   ]
  },
  {
   "cell_type": "markdown",
   "metadata": {},
   "source": [
    "## Age Demographics"
   ]
  },
  {
   "cell_type": "markdown",
   "metadata": {},
   "source": [
    "* Establish bins for ages\n",
    "\n",
    "\n",
    "* Categorize the existing players using the age bins. Hint: use pd.cut()\n",
    "\n",
    "\n",
    "* Calculate the numbers and percentages by age group\n",
    "\n",
    "\n",
    "* Create a summary data frame to hold the results\n",
    "\n",
    "\n",
    "* Optional: round the percentage column to two decimal points\n",
    "\n",
    "\n",
    "* Display Age Demographics Table\n"
   ]
  },
  {
   "cell_type": "code",
   "execution_count": 34,
   "metadata": {},
   "outputs": [
    {
     "data": {
      "text/html": [
       "<style  type=\"text/css\" >\n",
       "</style><table id=\"T_c41b4ea4_7163_11ea_ae65_74c63bff8ba6\" ><thead>    <tr>        <th class=\"blank level0\" ></th>        <th class=\"col_heading level0 col0\" >Percentage of Players</th>        <th class=\"col_heading level0 col1\" >Total Count</th>    </tr></thead><tbody>\n",
       "                <tr>\n",
       "                        <th id=\"T_c41b4ea4_7163_11ea_ae65_74c63bff8ba6level0_row0\" class=\"row_heading level0 row0\" ><10</th>\n",
       "                        <td id=\"T_c41b4ea4_7163_11ea_ae65_74c63bff8ba6row0_col0\" class=\"data row0 col0\" >2.95%</td>\n",
       "                        <td id=\"T_c41b4ea4_7163_11ea_ae65_74c63bff8ba6row0_col1\" class=\"data row0 col1\" >17</td>\n",
       "            </tr>\n",
       "            <tr>\n",
       "                        <th id=\"T_c41b4ea4_7163_11ea_ae65_74c63bff8ba6level0_row1\" class=\"row_heading level0 row1\" >10-14</th>\n",
       "                        <td id=\"T_c41b4ea4_7163_11ea_ae65_74c63bff8ba6row1_col0\" class=\"data row1 col0\" >3.82%</td>\n",
       "                        <td id=\"T_c41b4ea4_7163_11ea_ae65_74c63bff8ba6row1_col1\" class=\"data row1 col1\" >22</td>\n",
       "            </tr>\n",
       "            <tr>\n",
       "                        <th id=\"T_c41b4ea4_7163_11ea_ae65_74c63bff8ba6level0_row2\" class=\"row_heading level0 row2\" >15-19</th>\n",
       "                        <td id=\"T_c41b4ea4_7163_11ea_ae65_74c63bff8ba6row2_col0\" class=\"data row2 col0\" >18.58%</td>\n",
       "                        <td id=\"T_c41b4ea4_7163_11ea_ae65_74c63bff8ba6row2_col1\" class=\"data row2 col1\" >107</td>\n",
       "            </tr>\n",
       "            <tr>\n",
       "                        <th id=\"T_c41b4ea4_7163_11ea_ae65_74c63bff8ba6level0_row3\" class=\"row_heading level0 row3\" >20-24</th>\n",
       "                        <td id=\"T_c41b4ea4_7163_11ea_ae65_74c63bff8ba6row3_col0\" class=\"data row3 col0\" >44.79%</td>\n",
       "                        <td id=\"T_c41b4ea4_7163_11ea_ae65_74c63bff8ba6row3_col1\" class=\"data row3 col1\" >258</td>\n",
       "            </tr>\n",
       "            <tr>\n",
       "                        <th id=\"T_c41b4ea4_7163_11ea_ae65_74c63bff8ba6level0_row4\" class=\"row_heading level0 row4\" >25-29</th>\n",
       "                        <td id=\"T_c41b4ea4_7163_11ea_ae65_74c63bff8ba6row4_col0\" class=\"data row4 col0\" >13.37%</td>\n",
       "                        <td id=\"T_c41b4ea4_7163_11ea_ae65_74c63bff8ba6row4_col1\" class=\"data row4 col1\" >77</td>\n",
       "            </tr>\n",
       "            <tr>\n",
       "                        <th id=\"T_c41b4ea4_7163_11ea_ae65_74c63bff8ba6level0_row5\" class=\"row_heading level0 row5\" >30-34</th>\n",
       "                        <td id=\"T_c41b4ea4_7163_11ea_ae65_74c63bff8ba6row5_col0\" class=\"data row5 col0\" >9.03%</td>\n",
       "                        <td id=\"T_c41b4ea4_7163_11ea_ae65_74c63bff8ba6row5_col1\" class=\"data row5 col1\" >52</td>\n",
       "            </tr>\n",
       "            <tr>\n",
       "                        <th id=\"T_c41b4ea4_7163_11ea_ae65_74c63bff8ba6level0_row6\" class=\"row_heading level0 row6\" >35-39</th>\n",
       "                        <td id=\"T_c41b4ea4_7163_11ea_ae65_74c63bff8ba6row6_col0\" class=\"data row6 col0\" >5.38%</td>\n",
       "                        <td id=\"T_c41b4ea4_7163_11ea_ae65_74c63bff8ba6row6_col1\" class=\"data row6 col1\" >31</td>\n",
       "            </tr>\n",
       "            <tr>\n",
       "                        <th id=\"T_c41b4ea4_7163_11ea_ae65_74c63bff8ba6level0_row7\" class=\"row_heading level0 row7\" >40+</th>\n",
       "                        <td id=\"T_c41b4ea4_7163_11ea_ae65_74c63bff8ba6row7_col0\" class=\"data row7 col0\" >2.08%</td>\n",
       "                        <td id=\"T_c41b4ea4_7163_11ea_ae65_74c63bff8ba6row7_col1\" class=\"data row7 col1\" >12</td>\n",
       "            </tr>\n",
       "    </tbody></table>"
      ],
      "text/plain": [
       "<pandas.io.formats.style.Styler at 0x2c79a110c48>"
      ]
     },
     "execution_count": 34,
     "metadata": {},
     "output_type": "execute_result"
    }
   ],
   "source": [
    "age_bins = [0, 9, 14, 19, 24, 29, 34, 39, 999]\n",
    "group_names = [\"<10\", \"10-14\", \"15-19\", \"20-24\", \"25-29\", \"30-34\", \"35-39\", \"40+\"]\n",
    "purchase_data[\"Age Group\"] = pd.cut(purchase_data[\"Age\"],age_bins, labels=group_names)\n",
    "purchase_data\n",
    "age_grouped = purchase_data.groupby(\"Age Group\")\n",
    "total_count_age = age_grouped[\"SN\"].nunique()\n",
    "percentage_by_age = (total_count_age/total_players) * 100\n",
    "age_demo = pd.DataFrame({\"Percentage of Players\": percentage_by_age, \"Total Count\": total_count_age})\n",
    "age_demo.index.name = None\n",
    "age_demo.style.format({\"Percentage of Players\":\"{:,.2f}%\"})"
   ]
  },
  {
   "cell_type": "markdown",
   "metadata": {},
   "source": [
    "## Purchasing Analysis (Age)"
   ]
  },
  {
   "cell_type": "markdown",
   "metadata": {},
   "source": [
    "* Bin the purchase_data data frame by age\n",
    "\n",
    "\n",
    "* Run basic calculations to obtain purchase count, avg. purchase price, avg. purchase total per person etc. in the table below\n",
    "\n",
    "\n",
    "* Create a summary data frame to hold the results\n",
    "\n",
    "\n",
    "* Optional: give the displayed data cleaner formatting\n",
    "\n",
    "\n",
    "* Display the summary data frame"
   ]
  },
  {
   "cell_type": "code",
   "execution_count": 7,
   "metadata": {},
   "outputs": [
    {
     "data": {
      "text/html": [
       "<div>\n",
       "<style scoped>\n",
       "    .dataframe tbody tr th:only-of-type {\n",
       "        vertical-align: middle;\n",
       "    }\n",
       "\n",
       "    .dataframe tbody tr th {\n",
       "        vertical-align: top;\n",
       "    }\n",
       "\n",
       "    .dataframe thead th {\n",
       "        text-align: right;\n",
       "    }\n",
       "</style>\n",
       "<table border=\"1\" class=\"dataframe\">\n",
       "  <thead>\n",
       "    <tr style=\"text-align: right;\">\n",
       "      <th></th>\n",
       "      <th>Purchase Count</th>\n",
       "      <th>Average Purchase Price</th>\n",
       "      <th>Total Purchase Value</th>\n",
       "      <th>Avg Total Purchase per Person</th>\n",
       "    </tr>\n",
       "    <tr>\n",
       "      <th>Age Ranges</th>\n",
       "      <th></th>\n",
       "      <th></th>\n",
       "      <th></th>\n",
       "      <th></th>\n",
       "    </tr>\n",
       "  </thead>\n",
       "  <tbody>\n",
       "    <tr>\n",
       "      <th>&lt;10</th>\n",
       "      <td>23</td>\n",
       "      <td>$3.35</td>\n",
       "      <td>$77.13</td>\n",
       "      <td>$4.54</td>\n",
       "    </tr>\n",
       "    <tr>\n",
       "      <th>10-14</th>\n",
       "      <td>28</td>\n",
       "      <td>$2.96</td>\n",
       "      <td>$82.78</td>\n",
       "      <td>$3.76</td>\n",
       "    </tr>\n",
       "    <tr>\n",
       "      <th>15-19</th>\n",
       "      <td>136</td>\n",
       "      <td>$3.04</td>\n",
       "      <td>$412.89</td>\n",
       "      <td>$3.86</td>\n",
       "    </tr>\n",
       "    <tr>\n",
       "      <th>20-24</th>\n",
       "      <td>365</td>\n",
       "      <td>$3.05</td>\n",
       "      <td>$1,114.06</td>\n",
       "      <td>$4.32</td>\n",
       "    </tr>\n",
       "    <tr>\n",
       "      <th>25-29</th>\n",
       "      <td>101</td>\n",
       "      <td>$2.90</td>\n",
       "      <td>$293.00</td>\n",
       "      <td>$3.81</td>\n",
       "    </tr>\n",
       "    <tr>\n",
       "      <th>30-34</th>\n",
       "      <td>73</td>\n",
       "      <td>$2.93</td>\n",
       "      <td>$214.00</td>\n",
       "      <td>$4.12</td>\n",
       "    </tr>\n",
       "    <tr>\n",
       "      <th>35-39</th>\n",
       "      <td>41</td>\n",
       "      <td>$3.60</td>\n",
       "      <td>$147.67</td>\n",
       "      <td>$4.76</td>\n",
       "    </tr>\n",
       "    <tr>\n",
       "      <th>40+</th>\n",
       "      <td>13</td>\n",
       "      <td>$2.94</td>\n",
       "      <td>$38.24</td>\n",
       "      <td>$3.19</td>\n",
       "    </tr>\n",
       "  </tbody>\n",
       "</table>\n",
       "</div>"
      ],
      "text/plain": [
       "           Purchase Count Average Purchase Price Total Purchase Value  \\\n",
       "Age Ranges                                                              \n",
       "<10                    23                  $3.35               $77.13   \n",
       "10-14                  28                  $2.96               $82.78   \n",
       "15-19                 136                  $3.04              $412.89   \n",
       "20-24                 365                  $3.05            $1,114.06   \n",
       "25-29                 101                  $2.90              $293.00   \n",
       "30-34                  73                  $2.93              $214.00   \n",
       "35-39                  41                  $3.60              $147.67   \n",
       "40+                    13                  $2.94               $38.24   \n",
       "\n",
       "           Avg Total Purchase per Person  \n",
       "Age Ranges                                \n",
       "<10                                $4.54  \n",
       "10-14                              $3.76  \n",
       "15-19                              $3.86  \n",
       "20-24                              $4.32  \n",
       "25-29                              $3.81  \n",
       "30-34                              $4.12  \n",
       "35-39                              $4.76  \n",
       "40+                                $3.19  "
      ]
     },
     "execution_count": 7,
     "metadata": {},
     "output_type": "execute_result"
    }
   ],
   "source": [
    "# default cell do not run"
   ]
  },
  {
   "cell_type": "code",
   "execution_count": 75,
   "metadata": {},
   "outputs": [
    {
     "data": {
      "text/html": [
       "<style  type=\"text/css\" >\n",
       "</style><table id=\"T_1c9e3998_7167_11ea_ba54_74c63bff8ba6\" ><thead>    <tr>        <th class=\"blank level0\" ></th>        <th class=\"col_heading level0 col0\" >Purchase Count</th>        <th class=\"col_heading level0 col1\" >Average Purchase Price</th>        <th class=\"col_heading level0 col2\" >Total Purchase Value</th>        <th class=\"col_heading level0 col3\" >Average Purchase Total Per Person</th>    </tr></thead><tbody>\n",
       "                <tr>\n",
       "                        <th id=\"T_1c9e3998_7167_11ea_ba54_74c63bff8ba6level0_row0\" class=\"row_heading level0 row0\" ><10</th>\n",
       "                        <td id=\"T_1c9e3998_7167_11ea_ba54_74c63bff8ba6row0_col0\" class=\"data row0 col0\" >23</td>\n",
       "                        <td id=\"T_1c9e3998_7167_11ea_ba54_74c63bff8ba6row0_col1\" class=\"data row0 col1\" >$3.35</td>\n",
       "                        <td id=\"T_1c9e3998_7167_11ea_ba54_74c63bff8ba6row0_col2\" class=\"data row0 col2\" >$77.13</td>\n",
       "                        <td id=\"T_1c9e3998_7167_11ea_ba54_74c63bff8ba6row0_col3\" class=\"data row0 col3\" >4.53706</td>\n",
       "            </tr>\n",
       "            <tr>\n",
       "                        <th id=\"T_1c9e3998_7167_11ea_ba54_74c63bff8ba6level0_row1\" class=\"row_heading level0 row1\" >10-14</th>\n",
       "                        <td id=\"T_1c9e3998_7167_11ea_ba54_74c63bff8ba6row1_col0\" class=\"data row1 col0\" >28</td>\n",
       "                        <td id=\"T_1c9e3998_7167_11ea_ba54_74c63bff8ba6row1_col1\" class=\"data row1 col1\" >$2.96</td>\n",
       "                        <td id=\"T_1c9e3998_7167_11ea_ba54_74c63bff8ba6row1_col2\" class=\"data row1 col2\" >$82.78</td>\n",
       "                        <td id=\"T_1c9e3998_7167_11ea_ba54_74c63bff8ba6row1_col3\" class=\"data row1 col3\" >3.76273</td>\n",
       "            </tr>\n",
       "            <tr>\n",
       "                        <th id=\"T_1c9e3998_7167_11ea_ba54_74c63bff8ba6level0_row2\" class=\"row_heading level0 row2\" >15-19</th>\n",
       "                        <td id=\"T_1c9e3998_7167_11ea_ba54_74c63bff8ba6row2_col0\" class=\"data row2 col0\" >136</td>\n",
       "                        <td id=\"T_1c9e3998_7167_11ea_ba54_74c63bff8ba6row2_col1\" class=\"data row2 col1\" >$3.04</td>\n",
       "                        <td id=\"T_1c9e3998_7167_11ea_ba54_74c63bff8ba6row2_col2\" class=\"data row2 col2\" >$412.89</td>\n",
       "                        <td id=\"T_1c9e3998_7167_11ea_ba54_74c63bff8ba6row2_col3\" class=\"data row2 col3\" >3.85879</td>\n",
       "            </tr>\n",
       "            <tr>\n",
       "                        <th id=\"T_1c9e3998_7167_11ea_ba54_74c63bff8ba6level0_row3\" class=\"row_heading level0 row3\" >20-24</th>\n",
       "                        <td id=\"T_1c9e3998_7167_11ea_ba54_74c63bff8ba6row3_col0\" class=\"data row3 col0\" >365</td>\n",
       "                        <td id=\"T_1c9e3998_7167_11ea_ba54_74c63bff8ba6row3_col1\" class=\"data row3 col1\" >$3.05</td>\n",
       "                        <td id=\"T_1c9e3998_7167_11ea_ba54_74c63bff8ba6row3_col2\" class=\"data row3 col2\" >$1,114.06</td>\n",
       "                        <td id=\"T_1c9e3998_7167_11ea_ba54_74c63bff8ba6row3_col3\" class=\"data row3 col3\" >4.31806</td>\n",
       "            </tr>\n",
       "            <tr>\n",
       "                        <th id=\"T_1c9e3998_7167_11ea_ba54_74c63bff8ba6level0_row4\" class=\"row_heading level0 row4\" >25-29</th>\n",
       "                        <td id=\"T_1c9e3998_7167_11ea_ba54_74c63bff8ba6row4_col0\" class=\"data row4 col0\" >101</td>\n",
       "                        <td id=\"T_1c9e3998_7167_11ea_ba54_74c63bff8ba6row4_col1\" class=\"data row4 col1\" >$2.90</td>\n",
       "                        <td id=\"T_1c9e3998_7167_11ea_ba54_74c63bff8ba6row4_col2\" class=\"data row4 col2\" >$293.00</td>\n",
       "                        <td id=\"T_1c9e3998_7167_11ea_ba54_74c63bff8ba6row4_col3\" class=\"data row4 col3\" >3.80519</td>\n",
       "            </tr>\n",
       "            <tr>\n",
       "                        <th id=\"T_1c9e3998_7167_11ea_ba54_74c63bff8ba6level0_row5\" class=\"row_heading level0 row5\" >30-34</th>\n",
       "                        <td id=\"T_1c9e3998_7167_11ea_ba54_74c63bff8ba6row5_col0\" class=\"data row5 col0\" >73</td>\n",
       "                        <td id=\"T_1c9e3998_7167_11ea_ba54_74c63bff8ba6row5_col1\" class=\"data row5 col1\" >$2.93</td>\n",
       "                        <td id=\"T_1c9e3998_7167_11ea_ba54_74c63bff8ba6row5_col2\" class=\"data row5 col2\" >$214.00</td>\n",
       "                        <td id=\"T_1c9e3998_7167_11ea_ba54_74c63bff8ba6row5_col3\" class=\"data row5 col3\" >4.11538</td>\n",
       "            </tr>\n",
       "            <tr>\n",
       "                        <th id=\"T_1c9e3998_7167_11ea_ba54_74c63bff8ba6level0_row6\" class=\"row_heading level0 row6\" >35-39</th>\n",
       "                        <td id=\"T_1c9e3998_7167_11ea_ba54_74c63bff8ba6row6_col0\" class=\"data row6 col0\" >41</td>\n",
       "                        <td id=\"T_1c9e3998_7167_11ea_ba54_74c63bff8ba6row6_col1\" class=\"data row6 col1\" >$3.60</td>\n",
       "                        <td id=\"T_1c9e3998_7167_11ea_ba54_74c63bff8ba6row6_col2\" class=\"data row6 col2\" >$147.67</td>\n",
       "                        <td id=\"T_1c9e3998_7167_11ea_ba54_74c63bff8ba6row6_col3\" class=\"data row6 col3\" >4.76355</td>\n",
       "            </tr>\n",
       "            <tr>\n",
       "                        <th id=\"T_1c9e3998_7167_11ea_ba54_74c63bff8ba6level0_row7\" class=\"row_heading level0 row7\" >40+</th>\n",
       "                        <td id=\"T_1c9e3998_7167_11ea_ba54_74c63bff8ba6row7_col0\" class=\"data row7 col0\" >13</td>\n",
       "                        <td id=\"T_1c9e3998_7167_11ea_ba54_74c63bff8ba6row7_col1\" class=\"data row7 col1\" >$2.94</td>\n",
       "                        <td id=\"T_1c9e3998_7167_11ea_ba54_74c63bff8ba6row7_col2\" class=\"data row7 col2\" >$38.24</td>\n",
       "                        <td id=\"T_1c9e3998_7167_11ea_ba54_74c63bff8ba6row7_col3\" class=\"data row7 col3\" >3.18667</td>\n",
       "            </tr>\n",
       "    </tbody></table>"
      ],
      "text/plain": [
       "<pandas.io.formats.style.Styler at 0x2c79a23c2c8>"
      ]
     },
     "execution_count": 75,
     "metadata": {},
     "output_type": "execute_result"
    }
   ],
   "source": [
    "purchase_count_age = age_grouped[\"Purchase ID\"].count()\n",
    "\n",
    "avg_purchase_price_age = age_grouped[\"Price\"].mean()\n",
    "total_purchase_value = age_grouped[\"Price\"].sum()\n",
    "\n",
    "avg_purchase_per_person_age = total_purchase_value/total_count_age\n",
    "age_demo = pd.DataFrame({\"Purchase Count\": purchase_count_age,\n",
    "                                 \"Average Purchase Price\": avg_purchase_price_age,\n",
    "                                 \"Total Purchase Value\":total_purchase_value,\n",
    "                                 \"Average Purchase Total Per Person\": avg_purchase_per_person_age})\n",
    "\n",
    "age_demo.index.name = None\n",
    "age_demo.style.format({\"Average Purchase Price\":\"${:,.2f}\",\n",
    "                               \"Total Purchase Value\":\"${:,.2f}\",\n",
    "                               \"Average Purchase Total per Person\":\"${:,.2f}\"})"
   ]
  },
  {
   "cell_type": "markdown",
   "metadata": {},
   "source": [
    "## Top Spenders"
   ]
  },
  {
   "cell_type": "markdown",
   "metadata": {},
   "source": [
    "* Run basic calculations to obtain the results in the table below\n",
    "\n",
    "\n",
    "* Create a summary data frame to hold the results\n",
    "\n",
    "\n",
    "* Sort the total purchase value column in descending order\n",
    "\n",
    "\n",
    "* Optional: give the displayed data cleaner formatting\n",
    "\n",
    "\n",
    "* Display a preview of the summary data frame\n",
    "\n"
   ]
  },
  {
   "cell_type": "code",
   "execution_count": 8,
   "metadata": {},
   "outputs": [
    {
     "data": {
      "text/html": [
       "<div>\n",
       "<style scoped>\n",
       "    .dataframe tbody tr th:only-of-type {\n",
       "        vertical-align: middle;\n",
       "    }\n",
       "\n",
       "    .dataframe tbody tr th {\n",
       "        vertical-align: top;\n",
       "    }\n",
       "\n",
       "    .dataframe thead th {\n",
       "        text-align: right;\n",
       "    }\n",
       "</style>\n",
       "<table border=\"1\" class=\"dataframe\">\n",
       "  <thead>\n",
       "    <tr style=\"text-align: right;\">\n",
       "      <th></th>\n",
       "      <th>Purchase Count</th>\n",
       "      <th>Average Purchase Price</th>\n",
       "      <th>Total Purchase Value</th>\n",
       "    </tr>\n",
       "    <tr>\n",
       "      <th>SN</th>\n",
       "      <th></th>\n",
       "      <th></th>\n",
       "      <th></th>\n",
       "    </tr>\n",
       "  </thead>\n",
       "  <tbody>\n",
       "    <tr>\n",
       "      <th>Lisosia93</th>\n",
       "      <td>5</td>\n",
       "      <td>$3.79</td>\n",
       "      <td>$18.96</td>\n",
       "    </tr>\n",
       "    <tr>\n",
       "      <th>Idastidru52</th>\n",
       "      <td>4</td>\n",
       "      <td>$3.86</td>\n",
       "      <td>$15.45</td>\n",
       "    </tr>\n",
       "    <tr>\n",
       "      <th>Chamjask73</th>\n",
       "      <td>3</td>\n",
       "      <td>$4.61</td>\n",
       "      <td>$13.83</td>\n",
       "    </tr>\n",
       "    <tr>\n",
       "      <th>Iral74</th>\n",
       "      <td>4</td>\n",
       "      <td>$3.40</td>\n",
       "      <td>$13.62</td>\n",
       "    </tr>\n",
       "    <tr>\n",
       "      <th>Iskadarya95</th>\n",
       "      <td>3</td>\n",
       "      <td>$4.37</td>\n",
       "      <td>$13.10</td>\n",
       "    </tr>\n",
       "  </tbody>\n",
       "</table>\n",
       "</div>"
      ],
      "text/plain": [
       "             Purchase Count Average Purchase Price Total Purchase Value\n",
       "SN                                                                     \n",
       "Lisosia93                 5                  $3.79               $18.96\n",
       "Idastidru52               4                  $3.86               $15.45\n",
       "Chamjask73                3                  $4.61               $13.83\n",
       "Iral74                    4                  $3.40               $13.62\n",
       "Iskadarya95               3                  $4.37               $13.10"
      ]
     },
     "execution_count": 8,
     "metadata": {},
     "output_type": "execute_result"
    }
   ],
   "source": [
    "# original cell do not run"
   ]
  },
  {
   "cell_type": "code",
   "execution_count": 86,
   "metadata": {},
   "outputs": [
    {
     "data": {
      "text/html": [
       "<style  type=\"text/css\" >\n",
       "</style><table id=\"T_3e6d93ac_716c_11ea_b967_74c63bff8ba6\" ><thead>    <tr>        <th class=\"blank level0\" ></th>        <th class=\"col_heading level0 col0\" >Purchase Count</th>        <th class=\"col_heading level0 col1\" >Average Purchase Price</th>        <th class=\"col_heading level0 col2\" >Total Purchase Value</th>    </tr>    <tr>        <th class=\"index_name level0\" >SN</th>        <th class=\"blank\" ></th>        <th class=\"blank\" ></th>        <th class=\"blank\" ></th>    </tr></thead><tbody>\n",
       "                <tr>\n",
       "                        <th id=\"T_3e6d93ac_716c_11ea_b967_74c63bff8ba6level0_row0\" class=\"row_heading level0 row0\" >Lisosia93</th>\n",
       "                        <td id=\"T_3e6d93ac_716c_11ea_b967_74c63bff8ba6row0_col0\" class=\"data row0 col0\" >5</td>\n",
       "                        <td id=\"T_3e6d93ac_716c_11ea_b967_74c63bff8ba6row0_col1\" class=\"data row0 col1\" >$3.79</td>\n",
       "                        <td id=\"T_3e6d93ac_716c_11ea_b967_74c63bff8ba6row0_col2\" class=\"data row0 col2\" >$18.96</td>\n",
       "            </tr>\n",
       "            <tr>\n",
       "                        <th id=\"T_3e6d93ac_716c_11ea_b967_74c63bff8ba6level0_row1\" class=\"row_heading level0 row1\" >Idastidru52</th>\n",
       "                        <td id=\"T_3e6d93ac_716c_11ea_b967_74c63bff8ba6row1_col0\" class=\"data row1 col0\" >4</td>\n",
       "                        <td id=\"T_3e6d93ac_716c_11ea_b967_74c63bff8ba6row1_col1\" class=\"data row1 col1\" >$3.86</td>\n",
       "                        <td id=\"T_3e6d93ac_716c_11ea_b967_74c63bff8ba6row1_col2\" class=\"data row1 col2\" >$15.45</td>\n",
       "            </tr>\n",
       "            <tr>\n",
       "                        <th id=\"T_3e6d93ac_716c_11ea_b967_74c63bff8ba6level0_row2\" class=\"row_heading level0 row2\" >Chamjask73</th>\n",
       "                        <td id=\"T_3e6d93ac_716c_11ea_b967_74c63bff8ba6row2_col0\" class=\"data row2 col0\" >3</td>\n",
       "                        <td id=\"T_3e6d93ac_716c_11ea_b967_74c63bff8ba6row2_col1\" class=\"data row2 col1\" >$4.61</td>\n",
       "                        <td id=\"T_3e6d93ac_716c_11ea_b967_74c63bff8ba6row2_col2\" class=\"data row2 col2\" >$13.83</td>\n",
       "            </tr>\n",
       "            <tr>\n",
       "                        <th id=\"T_3e6d93ac_716c_11ea_b967_74c63bff8ba6level0_row3\" class=\"row_heading level0 row3\" >Iral74</th>\n",
       "                        <td id=\"T_3e6d93ac_716c_11ea_b967_74c63bff8ba6row3_col0\" class=\"data row3 col0\" >4</td>\n",
       "                        <td id=\"T_3e6d93ac_716c_11ea_b967_74c63bff8ba6row3_col1\" class=\"data row3 col1\" >$3.40</td>\n",
       "                        <td id=\"T_3e6d93ac_716c_11ea_b967_74c63bff8ba6row3_col2\" class=\"data row3 col2\" >$13.62</td>\n",
       "            </tr>\n",
       "            <tr>\n",
       "                        <th id=\"T_3e6d93ac_716c_11ea_b967_74c63bff8ba6level0_row4\" class=\"row_heading level0 row4\" >Iskadarya95</th>\n",
       "                        <td id=\"T_3e6d93ac_716c_11ea_b967_74c63bff8ba6row4_col0\" class=\"data row4 col0\" >3</td>\n",
       "                        <td id=\"T_3e6d93ac_716c_11ea_b967_74c63bff8ba6row4_col1\" class=\"data row4 col1\" >$4.37</td>\n",
       "                        <td id=\"T_3e6d93ac_716c_11ea_b967_74c63bff8ba6row4_col2\" class=\"data row4 col2\" >$13.10</td>\n",
       "            </tr>\n",
       "    </tbody></table>"
      ],
      "text/plain": [
       "<pandas.io.formats.style.Styler at 0x2c79a2560c8>"
      ]
     },
     "execution_count": 86,
     "metadata": {},
     "output_type": "execute_result"
    }
   ],
   "source": [
    "sp_stats = purchase_data.groupby(\"SN\")\n",
    "purchase_count_sp = sp_stats[\"Purchase ID\"].count()\n",
    "avg_price_sp = sp_stats[\"Price\"].mean()\n",
    "purchase_tot_sp = spender_stats[\"Price\"].sum()\n",
    "top_sp = pd.DataFrame({\"Purchase Count\": purchase_count_sp,\n",
    "                             \"Average Purchase Price\": avg_price_sp,\n",
    "                             \"Total Purchase Value\": purchase_tot_sp})\n",
    "format_sp = top_sp.sort_values([\"Total Purchase Value\"], ascending=False).head()\n",
    "format_sp.style.format({\"Average Purchase Total\":\"${:,.2f}\",\n",
    "                                 \"Average Purchase Price\":\"${:,.2f}\", \n",
    "                                 \"Total Purchase Value\":\"${:,.2f}\"})"
   ]
  },
  {
   "cell_type": "markdown",
   "metadata": {},
   "source": [
    "## Most Popular Items"
   ]
  },
  {
   "cell_type": "markdown",
   "metadata": {},
   "source": [
    "* Retrieve the Item ID, Item Name, and Item Price columns\n",
    "\n",
    "\n",
    "* Group by Item ID and Item Name. Perform calculations to obtain purchase count, item price, and total purchase value\n",
    "\n",
    "\n",
    "* Create a summary data frame to hold the results\n",
    "\n",
    "\n",
    "* Sort the purchase count column in descending order\n",
    "\n",
    "\n",
    "* Optional: give the displayed data cleaner formatting\n",
    "\n",
    "\n",
    "* Display a preview of the summary data frame\n",
    "\n"
   ]
  },
  {
   "cell_type": "code",
   "execution_count": 9,
   "metadata": {},
   "outputs": [
    {
     "data": {
      "text/html": [
       "<div>\n",
       "<style scoped>\n",
       "    .dataframe tbody tr th:only-of-type {\n",
       "        vertical-align: middle;\n",
       "    }\n",
       "\n",
       "    .dataframe tbody tr th {\n",
       "        vertical-align: top;\n",
       "    }\n",
       "\n",
       "    .dataframe thead th {\n",
       "        text-align: right;\n",
       "    }\n",
       "</style>\n",
       "<table border=\"1\" class=\"dataframe\">\n",
       "  <thead>\n",
       "    <tr style=\"text-align: right;\">\n",
       "      <th></th>\n",
       "      <th></th>\n",
       "      <th>Purchase Count</th>\n",
       "      <th>Item Price</th>\n",
       "      <th>Total Purchase Value</th>\n",
       "    </tr>\n",
       "    <tr>\n",
       "      <th>Item ID</th>\n",
       "      <th>Item Name</th>\n",
       "      <th></th>\n",
       "      <th></th>\n",
       "      <th></th>\n",
       "    </tr>\n",
       "  </thead>\n",
       "  <tbody>\n",
       "    <tr>\n",
       "      <th>92</th>\n",
       "      <th>Final Critic</th>\n",
       "      <td>13</td>\n",
       "      <td>$4.61</td>\n",
       "      <td>$59.99</td>\n",
       "    </tr>\n",
       "    <tr>\n",
       "      <th>178</th>\n",
       "      <th>Oathbreaker, Last Hope of the Breaking Storm</th>\n",
       "      <td>12</td>\n",
       "      <td>$4.23</td>\n",
       "      <td>$50.76</td>\n",
       "    </tr>\n",
       "    <tr>\n",
       "      <th>145</th>\n",
       "      <th>Fiery Glass Crusader</th>\n",
       "      <td>9</td>\n",
       "      <td>$4.58</td>\n",
       "      <td>$41.22</td>\n",
       "    </tr>\n",
       "    <tr>\n",
       "      <th>132</th>\n",
       "      <th>Persuasion</th>\n",
       "      <td>9</td>\n",
       "      <td>$3.22</td>\n",
       "      <td>$28.99</td>\n",
       "    </tr>\n",
       "    <tr>\n",
       "      <th>108</th>\n",
       "      <th>Extraction, Quickblade Of Trembling Hands</th>\n",
       "      <td>9</td>\n",
       "      <td>$3.53</td>\n",
       "      <td>$31.77</td>\n",
       "    </tr>\n",
       "  </tbody>\n",
       "</table>\n",
       "</div>"
      ],
      "text/plain": [
       "                                                     Purchase Count  \\\n",
       "Item ID Item Name                                                     \n",
       "92      Final Critic                                             13   \n",
       "178     Oathbreaker, Last Hope of the Breaking Storm             12   \n",
       "145     Fiery Glass Crusader                                      9   \n",
       "132     Persuasion                                                9   \n",
       "108     Extraction, Quickblade Of Trembling Hands                 9   \n",
       "\n",
       "                                                     Item Price  \\\n",
       "Item ID Item Name                                                 \n",
       "92      Final Critic                                      $4.61   \n",
       "178     Oathbreaker, Last Hope of the Breaking Storm      $4.23   \n",
       "145     Fiery Glass Crusader                              $4.58   \n",
       "132     Persuasion                                        $3.22   \n",
       "108     Extraction, Quickblade Of Trembling Hands         $3.53   \n",
       "\n",
       "                                                     Total Purchase Value  \n",
       "Item ID Item Name                                                          \n",
       "92      Final Critic                                               $59.99  \n",
       "178     Oathbreaker, Last Hope of the Breaking Storm               $50.76  \n",
       "145     Fiery Glass Crusader                                       $41.22  \n",
       "132     Persuasion                                                 $28.99  \n",
       "108     Extraction, Quickblade Of Trembling Hands                  $31.77  "
      ]
     },
     "execution_count": 9,
     "metadata": {},
     "output_type": "execute_result"
    }
   ],
   "source": [
    "# Original Do not run or risk a terrible fate"
   ]
  },
  {
   "cell_type": "code",
   "execution_count": 89,
   "metadata": {},
   "outputs": [
    {
     "data": {
      "text/html": [
       "<style  type=\"text/css\" >\n",
       "</style><table id=\"T_0f1f40ac_716d_11ea_8d80_74c63bff8ba6\" ><thead>    <tr>        <th class=\"blank\" ></th>        <th class=\"blank level0\" ></th>        <th class=\"col_heading level0 col0\" >Purchase Count</th>        <th class=\"col_heading level0 col1\" >Item Price</th>        <th class=\"col_heading level0 col2\" >Total Purchase Value</th>    </tr>    <tr>        <th class=\"index_name level0\" >Item ID</th>        <th class=\"index_name level1\" >Item Name</th>        <th class=\"blank\" ></th>        <th class=\"blank\" ></th>        <th class=\"blank\" ></th>    </tr></thead><tbody>\n",
       "                <tr>\n",
       "                        <th id=\"T_0f1f40ac_716d_11ea_8d80_74c63bff8ba6level0_row0\" class=\"row_heading level0 row0\" >92</th>\n",
       "                        <th id=\"T_0f1f40ac_716d_11ea_8d80_74c63bff8ba6level1_row0\" class=\"row_heading level1 row0\" >Final Critic</th>\n",
       "                        <td id=\"T_0f1f40ac_716d_11ea_8d80_74c63bff8ba6row0_col0\" class=\"data row0 col0\" >13</td>\n",
       "                        <td id=\"T_0f1f40ac_716d_11ea_8d80_74c63bff8ba6row0_col1\" class=\"data row0 col1\" >$4.61</td>\n",
       "                        <td id=\"T_0f1f40ac_716d_11ea_8d80_74c63bff8ba6row0_col2\" class=\"data row0 col2\" >$59.99</td>\n",
       "            </tr>\n",
       "            <tr>\n",
       "                        <th id=\"T_0f1f40ac_716d_11ea_8d80_74c63bff8ba6level0_row1\" class=\"row_heading level0 row1\" >178</th>\n",
       "                        <th id=\"T_0f1f40ac_716d_11ea_8d80_74c63bff8ba6level1_row1\" class=\"row_heading level1 row1\" >Oathbreaker, Last Hope of the Breaking Storm</th>\n",
       "                        <td id=\"T_0f1f40ac_716d_11ea_8d80_74c63bff8ba6row1_col0\" class=\"data row1 col0\" >12</td>\n",
       "                        <td id=\"T_0f1f40ac_716d_11ea_8d80_74c63bff8ba6row1_col1\" class=\"data row1 col1\" >$4.23</td>\n",
       "                        <td id=\"T_0f1f40ac_716d_11ea_8d80_74c63bff8ba6row1_col2\" class=\"data row1 col2\" >$50.76</td>\n",
       "            </tr>\n",
       "            <tr>\n",
       "                        <th id=\"T_0f1f40ac_716d_11ea_8d80_74c63bff8ba6level0_row2\" class=\"row_heading level0 row2\" >145</th>\n",
       "                        <th id=\"T_0f1f40ac_716d_11ea_8d80_74c63bff8ba6level1_row2\" class=\"row_heading level1 row2\" >Fiery Glass Crusader</th>\n",
       "                        <td id=\"T_0f1f40ac_716d_11ea_8d80_74c63bff8ba6row2_col0\" class=\"data row2 col0\" >9</td>\n",
       "                        <td id=\"T_0f1f40ac_716d_11ea_8d80_74c63bff8ba6row2_col1\" class=\"data row2 col1\" >$4.58</td>\n",
       "                        <td id=\"T_0f1f40ac_716d_11ea_8d80_74c63bff8ba6row2_col2\" class=\"data row2 col2\" >$41.22</td>\n",
       "            </tr>\n",
       "            <tr>\n",
       "                        <th id=\"T_0f1f40ac_716d_11ea_8d80_74c63bff8ba6level0_row3\" class=\"row_heading level0 row3\" >132</th>\n",
       "                        <th id=\"T_0f1f40ac_716d_11ea_8d80_74c63bff8ba6level1_row3\" class=\"row_heading level1 row3\" >Persuasion</th>\n",
       "                        <td id=\"T_0f1f40ac_716d_11ea_8d80_74c63bff8ba6row3_col0\" class=\"data row3 col0\" >9</td>\n",
       "                        <td id=\"T_0f1f40ac_716d_11ea_8d80_74c63bff8ba6row3_col1\" class=\"data row3 col1\" >$3.22</td>\n",
       "                        <td id=\"T_0f1f40ac_716d_11ea_8d80_74c63bff8ba6row3_col2\" class=\"data row3 col2\" >$28.99</td>\n",
       "            </tr>\n",
       "            <tr>\n",
       "                        <th id=\"T_0f1f40ac_716d_11ea_8d80_74c63bff8ba6level0_row4\" class=\"row_heading level0 row4\" >108</th>\n",
       "                        <th id=\"T_0f1f40ac_716d_11ea_8d80_74c63bff8ba6level1_row4\" class=\"row_heading level1 row4\" >Extraction, Quickblade Of Trembling Hands</th>\n",
       "                        <td id=\"T_0f1f40ac_716d_11ea_8d80_74c63bff8ba6row4_col0\" class=\"data row4 col0\" >9</td>\n",
       "                        <td id=\"T_0f1f40ac_716d_11ea_8d80_74c63bff8ba6row4_col1\" class=\"data row4 col1\" >$3.53</td>\n",
       "                        <td id=\"T_0f1f40ac_716d_11ea_8d80_74c63bff8ba6row4_col2\" class=\"data row4 col2\" >$31.77</td>\n",
       "            </tr>\n",
       "    </tbody></table>"
      ],
      "text/plain": [
       "<pandas.io.formats.style.Styler at 0x2c79a23a448>"
      ]
     },
     "execution_count": 89,
     "metadata": {},
     "output_type": "execute_result"
    }
   ],
   "source": [
    "items = purchase_data[[\"Item ID\", \"Item Name\", \"Price\"]]\n",
    "item_stats = items.groupby([\"Item ID\",\"Item Name\"]) \n",
    "purchase_count_item = item_stats[\"Price\"].count()\n",
    "purchase_value = (item_stats[\"Price\"].sum()) \n",
    "\n",
    "\n",
    "item_price = purchase_value/purchase_count_item\n",
    "most_pop_items = pd.DataFrame({\"Purchase Count\": purchase_count_item, \n",
    "                                   \"Item Price\": item_price,\n",
    "                                   \"Total Purchase Value\":purchase_value})\n",
    "pop_format = most_popular_items.sort_values([\"Purchase Count\"], ascending=False).head()\n",
    "\n",
    "\n",
    "pop_format.style.format({\"Item Price\":\"${:,.2f}\",\n",
    "                                \"Total Purchase Value\":\"${:,.2f}\"})"
   ]
  },
  {
   "cell_type": "markdown",
   "metadata": {},
   "source": [
    "## Most Profitable Items"
   ]
  },
  {
   "cell_type": "markdown",
   "metadata": {},
   "source": [
    "* Sort the above table by total purchase value in descending order\n",
    "\n",
    "\n",
    "* Optional: give the displayed data cleaner formatting\n",
    "\n",
    "\n",
    "* Display a preview of the data frame\n",
    "\n"
   ]
  },
  {
   "cell_type": "code",
   "execution_count": 10,
   "metadata": {
    "scrolled": true
   },
   "outputs": [
    {
     "data": {
      "text/html": [
       "<div>\n",
       "<style scoped>\n",
       "    .dataframe tbody tr th:only-of-type {\n",
       "        vertical-align: middle;\n",
       "    }\n",
       "\n",
       "    .dataframe tbody tr th {\n",
       "        vertical-align: top;\n",
       "    }\n",
       "\n",
       "    .dataframe thead th {\n",
       "        text-align: right;\n",
       "    }\n",
       "</style>\n",
       "<table border=\"1\" class=\"dataframe\">\n",
       "  <thead>\n",
       "    <tr style=\"text-align: right;\">\n",
       "      <th></th>\n",
       "      <th></th>\n",
       "      <th>Purchase Count</th>\n",
       "      <th>Item Price</th>\n",
       "      <th>Total Purchase Value</th>\n",
       "    </tr>\n",
       "    <tr>\n",
       "      <th>Item ID</th>\n",
       "      <th>Item Name</th>\n",
       "      <th></th>\n",
       "      <th></th>\n",
       "      <th></th>\n",
       "    </tr>\n",
       "  </thead>\n",
       "  <tbody>\n",
       "    <tr>\n",
       "      <th>92</th>\n",
       "      <th>Final Critic</th>\n",
       "      <td>13</td>\n",
       "      <td>$4.61</td>\n",
       "      <td>$59.99</td>\n",
       "    </tr>\n",
       "    <tr>\n",
       "      <th>178</th>\n",
       "      <th>Oathbreaker, Last Hope of the Breaking Storm</th>\n",
       "      <td>12</td>\n",
       "      <td>$4.23</td>\n",
       "      <td>$50.76</td>\n",
       "    </tr>\n",
       "    <tr>\n",
       "      <th>82</th>\n",
       "      <th>Nirvana</th>\n",
       "      <td>9</td>\n",
       "      <td>$4.90</td>\n",
       "      <td>$44.10</td>\n",
       "    </tr>\n",
       "    <tr>\n",
       "      <th>145</th>\n",
       "      <th>Fiery Glass Crusader</th>\n",
       "      <td>9</td>\n",
       "      <td>$4.58</td>\n",
       "      <td>$41.22</td>\n",
       "    </tr>\n",
       "    <tr>\n",
       "      <th>103</th>\n",
       "      <th>Singed Scalpel</th>\n",
       "      <td>8</td>\n",
       "      <td>$4.35</td>\n",
       "      <td>$34.80</td>\n",
       "    </tr>\n",
       "  </tbody>\n",
       "</table>\n",
       "</div>"
      ],
      "text/plain": [
       "                                                     Purchase Count  \\\n",
       "Item ID Item Name                                                     \n",
       "92      Final Critic                                             13   \n",
       "178     Oathbreaker, Last Hope of the Breaking Storm             12   \n",
       "82      Nirvana                                                   9   \n",
       "145     Fiery Glass Crusader                                      9   \n",
       "103     Singed Scalpel                                            8   \n",
       "\n",
       "                                                     Item Price  \\\n",
       "Item ID Item Name                                                 \n",
       "92      Final Critic                                      $4.61   \n",
       "178     Oathbreaker, Last Hope of the Breaking Storm      $4.23   \n",
       "82      Nirvana                                           $4.90   \n",
       "145     Fiery Glass Crusader                              $4.58   \n",
       "103     Singed Scalpel                                    $4.35   \n",
       "\n",
       "                                                     Total Purchase Value  \n",
       "Item ID Item Name                                                          \n",
       "92      Final Critic                                               $59.99  \n",
       "178     Oathbreaker, Last Hope of the Breaking Storm               $50.76  \n",
       "82      Nirvana                                                    $44.10  \n",
       "145     Fiery Glass Crusader                                       $41.22  \n",
       "103     Singed Scalpel                                             $34.80  "
      ]
     },
     "execution_count": 10,
     "metadata": {},
     "output_type": "execute_result"
    }
   ],
   "source": [
    "# tremble before the almighty and immuitable original table fear me and rejoice in my sacrosanct formatting (do not run this cell)"
   ]
  },
  {
   "cell_type": "code",
   "execution_count": 90,
   "metadata": {},
   "outputs": [
    {
     "data": {
      "text/html": [
       "<style  type=\"text/css\" >\n",
       "</style><table id=\"T_28286eac_716d_11ea_97da_74c63bff8ba6\" ><thead>    <tr>        <th class=\"blank\" ></th>        <th class=\"blank level0\" ></th>        <th class=\"col_heading level0 col0\" >Purchase Count</th>        <th class=\"col_heading level0 col1\" >Item Price</th>        <th class=\"col_heading level0 col2\" >Total Purchase Value</th>    </tr>    <tr>        <th class=\"index_name level0\" >Item ID</th>        <th class=\"index_name level1\" >Item Name</th>        <th class=\"blank\" ></th>        <th class=\"blank\" ></th>        <th class=\"blank\" ></th>    </tr></thead><tbody>\n",
       "                <tr>\n",
       "                        <th id=\"T_28286eac_716d_11ea_97da_74c63bff8ba6level0_row0\" class=\"row_heading level0 row0\" >92</th>\n",
       "                        <th id=\"T_28286eac_716d_11ea_97da_74c63bff8ba6level1_row0\" class=\"row_heading level1 row0\" >Final Critic</th>\n",
       "                        <td id=\"T_28286eac_716d_11ea_97da_74c63bff8ba6row0_col0\" class=\"data row0 col0\" >13</td>\n",
       "                        <td id=\"T_28286eac_716d_11ea_97da_74c63bff8ba6row0_col1\" class=\"data row0 col1\" >$4.61</td>\n",
       "                        <td id=\"T_28286eac_716d_11ea_97da_74c63bff8ba6row0_col2\" class=\"data row0 col2\" >$59.99</td>\n",
       "            </tr>\n",
       "            <tr>\n",
       "                        <th id=\"T_28286eac_716d_11ea_97da_74c63bff8ba6level0_row1\" class=\"row_heading level0 row1\" >178</th>\n",
       "                        <th id=\"T_28286eac_716d_11ea_97da_74c63bff8ba6level1_row1\" class=\"row_heading level1 row1\" >Oathbreaker, Last Hope of the Breaking Storm</th>\n",
       "                        <td id=\"T_28286eac_716d_11ea_97da_74c63bff8ba6row1_col0\" class=\"data row1 col0\" >12</td>\n",
       "                        <td id=\"T_28286eac_716d_11ea_97da_74c63bff8ba6row1_col1\" class=\"data row1 col1\" >$4.23</td>\n",
       "                        <td id=\"T_28286eac_716d_11ea_97da_74c63bff8ba6row1_col2\" class=\"data row1 col2\" >$50.76</td>\n",
       "            </tr>\n",
       "            <tr>\n",
       "                        <th id=\"T_28286eac_716d_11ea_97da_74c63bff8ba6level0_row2\" class=\"row_heading level0 row2\" >82</th>\n",
       "                        <th id=\"T_28286eac_716d_11ea_97da_74c63bff8ba6level1_row2\" class=\"row_heading level1 row2\" >Nirvana</th>\n",
       "                        <td id=\"T_28286eac_716d_11ea_97da_74c63bff8ba6row2_col0\" class=\"data row2 col0\" >9</td>\n",
       "                        <td id=\"T_28286eac_716d_11ea_97da_74c63bff8ba6row2_col1\" class=\"data row2 col1\" >$4.90</td>\n",
       "                        <td id=\"T_28286eac_716d_11ea_97da_74c63bff8ba6row2_col2\" class=\"data row2 col2\" >$44.10</td>\n",
       "            </tr>\n",
       "            <tr>\n",
       "                        <th id=\"T_28286eac_716d_11ea_97da_74c63bff8ba6level0_row3\" class=\"row_heading level0 row3\" >145</th>\n",
       "                        <th id=\"T_28286eac_716d_11ea_97da_74c63bff8ba6level1_row3\" class=\"row_heading level1 row3\" >Fiery Glass Crusader</th>\n",
       "                        <td id=\"T_28286eac_716d_11ea_97da_74c63bff8ba6row3_col0\" class=\"data row3 col0\" >9</td>\n",
       "                        <td id=\"T_28286eac_716d_11ea_97da_74c63bff8ba6row3_col1\" class=\"data row3 col1\" >$4.58</td>\n",
       "                        <td id=\"T_28286eac_716d_11ea_97da_74c63bff8ba6row3_col2\" class=\"data row3 col2\" >$41.22</td>\n",
       "            </tr>\n",
       "            <tr>\n",
       "                        <th id=\"T_28286eac_716d_11ea_97da_74c63bff8ba6level0_row4\" class=\"row_heading level0 row4\" >103</th>\n",
       "                        <th id=\"T_28286eac_716d_11ea_97da_74c63bff8ba6level1_row4\" class=\"row_heading level1 row4\" >Singed Scalpel</th>\n",
       "                        <td id=\"T_28286eac_716d_11ea_97da_74c63bff8ba6row4_col0\" class=\"data row4 col0\" >8</td>\n",
       "                        <td id=\"T_28286eac_716d_11ea_97da_74c63bff8ba6row4_col1\" class=\"data row4 col1\" >$4.35</td>\n",
       "                        <td id=\"T_28286eac_716d_11ea_97da_74c63bff8ba6row4_col2\" class=\"data row4 col2\" >$34.80</td>\n",
       "            </tr>\n",
       "    </tbody></table>"
      ],
      "text/plain": [
       "<pandas.io.formats.style.Styler at 0x2c79a25ed48>"
      ]
     },
     "execution_count": 90,
     "metadata": {},
     "output_type": "execute_result"
    }
   ],
   "source": [
    "pop_format = most_popular_items.sort_values([\"Total Purchase Value\"],\n",
    "                                                   ascending=False).head()\n",
    "\n",
    "pop_format.style.format({\"Item Price\":\"${:,.2f}\",\n",
    "                                \"Total Purchase Value\":\"${:,.2f}\"})"
   ]
  },
  {
   "cell_type": "code",
   "execution_count": null,
   "metadata": {},
   "outputs": [],
   "source": [
    "#job done"
   ]
  }
 ],
 "metadata": {
  "anaconda-cloud": {},
  "kernel_info": {
   "name": "python3"
  },
  "kernelspec": {
   "display_name": "Python 3",
   "language": "python",
   "name": "python3"
  },
  "language_info": {
   "codemirror_mode": {
    "name": "ipython",
    "version": 3
   },
   "file_extension": ".py",
   "mimetype": "text/x-python",
   "name": "python",
   "nbconvert_exporter": "python",
   "pygments_lexer": "ipython3",
   "version": "3.7.4"
  },
  "latex_envs": {
   "LaTeX_envs_menu_present": true,
   "autoclose": false,
   "autocomplete": true,
   "bibliofile": "biblio.bib",
   "cite_by": "apalike",
   "current_citInitial": 1,
   "eqLabelWithNumbers": true,
   "eqNumInitial": 1,
   "hotkeys": {
    "equation": "Ctrl-E",
    "itemize": "Ctrl-I"
   },
   "labels_anchors": false,
   "latex_user_defs": false,
   "report_style_numbering": false,
   "user_envs_cfg": false
  },
  "nteract": {
   "version": "0.2.0"
  }
 },
 "nbformat": 4,
 "nbformat_minor": 2
}
